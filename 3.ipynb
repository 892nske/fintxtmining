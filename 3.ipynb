{
 "cells": [
  {
   "cell_type": "code",
   "execution_count": 4,
   "id": "657d2e9e-0a0c-4fcc-8226-3677f1e005ec",
   "metadata": {},
   "outputs": [],
   "source": [
    "import MeCab"
   ]
  },
  {
   "cell_type": "code",
   "execution_count": null,
   "id": "2c9e3ef5-fbff-4696-8c2f-1bb59605e40a",
   "metadata": {},
   "outputs": [],
   "source": [
    "def extract_words(sentence):\n",
    "    words = []\n",
    "    t = MeCab.Tagger(\" \")\n",
    "    for word_line in t.parse"
   ]
  }
 ],
 "metadata": {
  "kernelspec": {
   "display_name": "Python 3 (ipykernel)",
   "language": "python",
   "name": "python3"
  },
  "language_info": {
   "codemirror_mode": {
    "name": "ipython",
    "version": 3
   },
   "file_extension": ".py",
   "mimetype": "text/x-python",
   "name": "python",
   "nbconvert_exporter": "python",
   "pygments_lexer": "ipython3",
   "version": "3.8.12"
  }
 },
 "nbformat": 4,
 "nbformat_minor": 5
}
